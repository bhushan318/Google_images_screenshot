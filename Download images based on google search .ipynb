{
 "cells": [
  {
   "cell_type": "markdown",
   "metadata": {},
   "source": [
    " # Import Packages "
   ]
  },
  {
   "cell_type": "code",
   "execution_count": 1,
   "metadata": {},
   "outputs": [],
   "source": [
    "{\n",
    "    \"tags\": [\n",
    "        \"hide-output\",\n",
    "    ]\n",
    "}\n",
    "try: \n",
    "    import easygui as eg\n",
    "    from selenium import webdriver\n",
    "    from selenium.webdriver.common.keys import Keys\n",
    "    import time\n",
    "except: \n",
    "    %pip install easygui\n",
    "    %pip install selenium\n",
    "    %pip install time    \n",
    "    import easygui as eg\n",
    "    from selenium import webdriver\n",
    "    from selenium.webdriver.common.keys import Keys\n",
    "    import time\n"
   ]
  },
  {
   "cell_type": "markdown",
   "metadata": {},
   "source": [
    "# Open Chrome browser"
   ]
  },
  {
   "cell_type": "code",
   "execution_count": 4,
   "metadata": {},
   "outputs": [],
   "source": [
    "try:\n",
    "    driver = webdriver.Chrome('./chromedriver.exe')\n",
    "    driver.get('https://www.google.ca/imghp?hl=en&tab=ri&authuser=0&ogbl')\n",
    "    box = driver.find_element_by_xpath('//*[@id=\"sbtc\"]/div/div[2]/input')\n",
    "except:\n",
    "    driver = webdriver.Chrome(eg.fileopenbox())\n",
    "    driver.get('https://www.google.ca/imghp?hl=en&tab=ri&authuser=0&ogbl')\n",
    "    box = driver.find_element_by_xpath('//*[@id=\"sbtc\"]/div/div[2]/input')"
   ]
  },
  {
   "cell_type": "code",
   "execution_count": 5,
   "metadata": {},
   "outputs": [],
   "source": [
    "Search_word = eg.multenterbox(msg='Please enter the search word', title='Search Word Input', fields=['Word'], values=[], callback=None, run=True)[0]\n",
    "box.send_keys(Search_word)\n",
    "box.send_keys(Keys.ENTER)"
   ]
  },
  {
   "cell_type": "code",
   "execution_count": 6,
   "metadata": {},
   "outputs": [],
   "source": [
    "#getting the xml path for each image untill page cannot scroll more\n",
    "end_page_height = driver.execute_script('return document.body.scrollHeight')\n",
    "while True:\n",
    "    driver.execute_script('window.scrollTo(0,document.body.scrollHeight)')\n",
    "    time.sleep(2)\n",
    "    new_height = driver.execute_script('return document.body.scrollHeight')\n",
    "    try:\n",
    "        driver.find_element_by_xpath('//*[@id=\"islmp\"]/div/div/div/div/div[5]/input').click()\n",
    "        time.sleep(2)\n",
    "    except:\n",
    "        pass\n",
    "    if new_height == end_page_height:\n",
    "        break\n",
    "    end_page_height = new_height"
   ]
  },
  {
   "cell_type": "code",
   "execution_count": 7,
   "metadata": {},
   "outputs": [],
   "source": [
    "No_of_image = int(eg.multenterbox(msg='Around '+  str(end_page_height) + ' images found for given search word. How many images to be saved',\n",
    "                              title='No of Images to be saved', fields=['Number'], values=[], callback=None, run=True)[0])\n",
    "\n",
    "folder_path = eg.diropenbox(msg = 'Select folder where images to be saved')"
   ]
  },
  {
   "cell_type": "code",
   "execution_count": 14,
   "metadata": {},
   "outputs": [],
   "source": [
    "for i in range(1, No_of_image):\n",
    "    try:\n",
    "        driver.find_element_by_xpath('//*[@id=\"islrg\"]/div[1]/div['+str(i)+']/a[1]/div[1]/img').screenshot(folder_path+'/' + '_'.join(Search_word.split())+ '_'+str(i)+'.png')\n",
    "    except:\n",
    "        pass"
   ]
  }
 ],
 "metadata": {
  "kernelspec": {
   "display_name": "Python 3",
   "language": "python",
   "name": "python3"
  },
  "language_info": {
   "codemirror_mode": {
    "name": "ipython",
    "version": 3
   },
   "file_extension": ".py",
   "mimetype": "text/x-python",
   "name": "python",
   "nbconvert_exporter": "python",
   "pygments_lexer": "ipython3",
   "version": "3.8.5"
  }
 },
 "nbformat": 4,
 "nbformat_minor": 5
}
